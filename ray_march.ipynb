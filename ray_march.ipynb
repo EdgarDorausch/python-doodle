{
 "cells": [
  {
   "cell_type": "code",
   "execution_count": null,
   "metadata": {},
   "outputs": [],
   "source": [
    "import matplotlib.pyplot as plt\n",
    "import numpy as np\n",
    "from typing import Tuple\n",
    "\n",
    "def normalize(x, axis):\n",
    "    norm = np.linalg.norm(x,2, axis=axis)\n",
    "    return x / norm[:,:,np.newaxis]\n",
    "\n",
    "\n",
    "class Camera:\n",
    "    def __init__(self, aspact_ratio: float, resolution: Tuple[int, int], z: float):\n",
    "        \"\"\"\n",
    "        :param: aspect_ratio - width/height\n",
    "        :param: resolution - (width, height)\n",
    "        \"\"\"\n",
    "        self.aspact_ratio = aspact_ratio\n",
    "        self.resolution = resolution\n",
    "        self.shape_3 = [resolution[0], resolution[1], 3]\n",
    "        self.shape_1 = [resolution[0], resolution[1], 1]\n",
    "\n",
    "        # (width, height, component)\n",
    "        self.position_buffer = np.array([ [ [w, h, 0.0] for h in np.arange(resolution[1]) ] for w in np.arange(resolution[0])])\n",
    "        self.position_buffer[:,:,0] *= aspact_ratio / resolution[0]\n",
    "        self.position_buffer[:,:,1] /= resolution[1]\n",
    "        self.position_buffer -= np.array([[[aspact_ratio/2, 0.5, 0.0]]])\n",
    "\n",
    "        self.direction_buffer = self.position_buffer.copy()\n",
    "        self.direction_buffer[:, :, 2] = z\n",
    "        self.direction_buffer = normalize(self.direction_buffer, axis=2)\n",
    "\n",
    "        self.distance_buffer = np.zeros(self.shape_1)\n",
    "\n",
    "\n",
    "    def calc_distances(self, position_buffer):\n",
    "        sphere_pos = np.array([[[0.0, 0.0, 3.0]]])\n",
    "        return np.linalg.norm(position_buffer - sphere_pos, axis=2) - 1.0\n",
    "\n",
    "    def calc_normals(self) -> np.ndarray:\n",
    "        normals = np.zeros(self.shape_3)\n",
    "        offset = 0.01\n",
    "        offset_vec_x = np.array([[[offset, 0, 0]]])\n",
    "        offset_vec_y = np.array([[[0, offset, 0]]])\n",
    "        offset_vec_z = np.array([[[0, 0, offset]]])\n",
    "\n",
    "        normals[:,:,0] = self.distance_buffer[:,:,0] - self.calc_distances(self.position_buffer + offset_vec_x)\n",
    "        normals[:,:,1] = self.distance_buffer[:,:,0] - self.calc_distances(self.position_buffer + offset_vec_y)\n",
    "        normals[:,:,2] = self.distance_buffer[:,:,0] - self.calc_distances(self.position_buffer + offset_vec_z)\n",
    "\n",
    "        normals = normalize(normals, axis=2)\n",
    "\n",
    "        return normals\n",
    "\n",
    "    def run(self, n):\n",
    "        for i in range(n):\n",
    "            self.distance_buffer = self.calc_distances(self.position_buffer)[:,:,np.newaxis]\n",
    "            self.position_buffer += self.direction_buffer * self.distance_buffer\n",
    "\n",
    "        light_vec = np.array([[[0.5, 0.3, 1.]]])\n",
    "        light_vec = normalize(light_vec, axis=2)\n",
    "        print(light_vec)\n",
    "\n",
    "        hit_mask = self.distance_buffer[:,:,0] < 0.1\n",
    "\n",
    "        normals = self.calc_normals()\n",
    "        # print(normals)\n",
    "        diffuse = np.sum(normals*light_vec, axis=2)\n",
    "        diffuse = np.clip(diffuse, 0., 1.)\n",
    "        diffuse[~hit_mask] = 0.0\n",
    "\n",
    "        return diffuse"
   ]
  },
  {
   "cell_type": "code",
   "execution_count": null,
   "metadata": {
    "tags": []
   },
   "outputs": [],
   "source": [
    "n=3\n",
    "c = Camera(16/9, (160*n,90*n), 1)\n",
    "d = c.run(100)"
   ]
  },
  {
   "cell_type": "code",
   "execution_count": null,
   "metadata": {},
   "outputs": [],
   "source": [
    "plt.imshow(d.T)\n",
    "plt.colorbar()"
   ]
  },
  {
   "cell_type": "code",
   "execution_count": null,
   "metadata": {},
   "outputs": [],
   "source": []
  }
 ],
 "metadata": {
  "language_info": {
   "codemirror_mode": {
    "name": "ipython",
    "version": 3
   },
   "file_extension": ".py",
   "mimetype": "text/x-python",
   "name": "python",
   "nbconvert_exporter": "python",
   "pygments_lexer": "ipython3",
   "version": "3.7.6-final"
  },
  "orig_nbformat": 2,
  "kernelspec": {
   "name": "python37664bitbaseconda1718532a609c4075829a8961198b2bf1",
   "display_name": "Python 3.7.6 64-bit ('base': conda)"
  }
 },
 "nbformat": 4,
 "nbformat_minor": 2
}