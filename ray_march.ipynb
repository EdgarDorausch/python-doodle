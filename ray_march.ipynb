{
 "cells": [
  {
   "cell_type": "code",
   "execution_count": null,
   "metadata": {},
   "outputs": [],
   "source": [
    "def split_input(fn):\n",
    "    def position_component_splitter(self, pos):\n",
    "        x = pos[0,:,:]\n",
    "        y = pos[1,:,:]\n",
    "        z = pos[2,:,:]\n",
    "\n",
    "        return fn(self,x,y,z)\n",
    "    return position_component_splitter\n",
    "\n",
    "def sq_norm(*components):\n",
    "    return sum(el**2 for el in components)\n",
    "\n",
    "def norm(*components):\n",
    "    return np.sqrt(sq_norm(*components))"
   ]
  },
  {
   "cell_type": "code",
   "execution_count": null,
   "metadata": {},
   "outputs": [],
   "source": [
    "class RenderObject:\n",
    "    def calc_distances(self, x):\n",
    "        raise NotImplementedError()\n",
    "\n",
    "    def __add__(self, other):\n",
    "        s = self\n",
    "        class LambdaRenderObject(RenderObject):\n",
    "            def calc_distances(self, x):\n",
    "                m = np.zeros([2,x.shape[1], x.shape[2]])\n",
    "                m[0,:,:] = s.calc_distances(x)\n",
    "                m[1,:,:] = other.calc_distances(x)\n",
    "\n",
    "                return np.min(m, axis=0)\n",
    "        return LambdaRenderObject()"
   ]
  },
  {
   "cell_type": "code",
   "execution_count": null,
   "metadata": {},
   "outputs": [],
   "source": [
    "class Torus(RenderObject):\n",
    "    def __init__(self):\n",
    "        pass\n",
    "\n",
    "    @split_input\n",
    "    def calc_distances(self, x, y, z):\n",
    "        z_ = z - 3.\n",
    "        return norm((norm(x, y) - 1.), z_) - 0.1\n",
    "\n"
   ]
  },
  {
   "cell_type": "code",
   "execution_count": null,
   "metadata": {},
   "outputs": [],
   "source": [
    "class Sphere(RenderObject):\n",
    "    def __init__(self, radius, position):\n",
    "        self.radius = radius\n",
    "        self.position = np.array(position).reshape([3,1,1])\n",
    "\n",
    "    def calc_distances(self, p):\n",
    "        return np.linalg.norm(p - self.position, axis=0) - self.radius"
   ]
  },
  {
   "cell_type": "code",
   "execution_count": null,
   "metadata": {},
   "outputs": [],
   "source": [
    "import matplotlib.pyplot as plt\n",
    "import numpy as np\n",
    "from typing import Tuple\n",
    "\n",
    "def normalize(x, axis):\n",
    "    norm = np.linalg.norm(x,2, axis=axis)\n",
    "    return x / norm[np.newaxis,:,:]\n",
    "\n",
    "class Camera:\n",
    "    def __init__(self, aspact_ratio: float, resolution: Tuple[int, int], z: float, scene: RenderObject):\n",
    "        \"\"\"\n",
    "        :param: aspect_ratio - width/height\n",
    "        :param: resolution - (width, height)\n",
    "        \"\"\"\n",
    "        self.aspact_ratio = aspact_ratio\n",
    "        self.scene = scene\n",
    "        self.resolution = resolution\n",
    "        self.shape_3 = [3, resolution[0], resolution[1]]\n",
    "        self.shape_1 = [1, resolution[0], resolution[1]]\n",
    "\n",
    "        # ([x, y, z], width, height)\n",
    "        self.position_buffer = np.zeros(self.shape_3)\n",
    "        self.position_buffer[0,:,:] = np.linspace(-aspact_ratio/2, aspact_ratio/2, num=resolution[0])[:, np.newaxis]\n",
    "        self.position_buffer[1,:,:] = np.linspace(-.5, .5, num=resolution[1])[:, np.newaxis].T\n",
    "        \n",
    "        self.direction_buffer = self.position_buffer.copy()\n",
    "        self.direction_buffer[2, :, :] = z\n",
    "        self.direction_buffer = normalize(self.direction_buffer, axis=0)\n",
    "\n",
    "        self.distance_buffer = np.zeros(self.shape_1)\n",
    "\n",
    "\n",
    "    def calc_distances(self, position_buffer):\n",
    "        return self.scene.calc_distances(position_buffer)\n",
    "\n",
    "    def calc_normals(self) -> np.ndarray:\n",
    "        normals = np.zeros(self.shape_3)\n",
    "        offset = 0.01\n",
    "        offset_vec_x = np.array([offset, 0, 0]).reshape([3,1,1])\n",
    "        offset_vec_y = np.array([0, offset, 0]).reshape([3,1,1])\n",
    "        offset_vec_z = np.array([0, 0, offset]).reshape([3,1,1])\n",
    "\n",
    "        normals[0,:,:] = self.distance_buffer[0,:,:] - self.calc_distances(self.position_buffer + offset_vec_x)\n",
    "        normals[1,:,:] = self.distance_buffer[0,:,:] - self.calc_distances(self.position_buffer + offset_vec_y)\n",
    "        normals[2,:,:] = self.distance_buffer[0,:,:] - self.calc_distances(self.position_buffer + offset_vec_z)\n",
    "\n",
    "        normals = normalize(normals, axis=0)\n",
    "\n",
    "        return normals\n",
    "\n",
    "    def run(self, n):\n",
    "        for i in range(n):\n",
    "            self.distance_buffer = self.calc_distances(self.position_buffer)[np.newaxis,:,:]\n",
    "            self.position_buffer += self.direction_buffer * self.distance_buffer\n",
    "\n",
    "        light_vec = np.array([0.7, 0.3, 1.]).reshape([3,1,1])\n",
    "        light_vec = normalize(light_vec, axis=0)\n",
    "\n",
    "        hit_mask = self.distance_buffer[0,:,:] < 0.1\n",
    "\n",
    "        normals = self.calc_normals()\n",
    "        # print(normals)\n",
    "        diffuse = np.sum(normals*light_vec, axis=0)\n",
    "        diffuse = np.clip(diffuse, 0., 1.)\n",
    "        diffuse[~hit_mask] = 0.0\n",
    "\n",
    "        r = 2*np.sum(self.direction_buffer*normals, axis=0)*normals - self.direction_buffer\n",
    "        specular = np.sum(r*light_vec, axis=0)\n",
    "        specular = np.power(specular.clip(0., 1.), 15)\n",
    "        specular[~hit_mask] = 0.0\n",
    "        print(specular.shape)\n",
    "\n",
    "        ambient = np.zeros(specular.shape)\n",
    "        ambient[hit_mask] = 1.\n",
    "\n",
    "\n",
    "\n",
    "        return (0.5*diffuse + 0.3*specular + 0.2*ambient).clip(0., 1.)"
   ]
  },
  {
   "cell_type": "code",
   "execution_count": null,
   "metadata": {
    "tags": []
   },
   "outputs": [],
   "source": [
    "sphere1 = Sphere(1., [0.0, 0.0, 3.0])\n",
    "sphere2 = Sphere(1., [0.0, 0.5, 3.0])\n",
    "f = sphere1 + sphere2\n",
    "     \n",
    "\n",
    "n=300\n",
    "c = Camera(4/3, (4*n,3*n), 1, Torus() + Sphere( .5, [0.,0.,3.]))\n",
    "d = c.run(20)"
   ]
  },
  {
   "cell_type": "code",
   "execution_count": null,
   "metadata": {},
   "outputs": [],
   "source": [
    "plt.imshow(d.T, cmap='gray')\n",
    "plt.colorbar()"
   ]
  },
  {
   "cell_type": "code",
   "execution_count": null,
   "metadata": {},
   "outputs": [],
   "source": [
    "from PIL import Image\n",
    "from matplotlib import cm\n",
    "\n",
    "im = Image.fromarray(np.uint8(cm.cividis(d.T)*255))\n",
    "im.show()"
   ]
  },
  {
   "cell_type": "code",
   "execution_count": null,
   "metadata": {},
   "outputs": [],
   "source": []
  },
  {
   "cell_type": "code",
   "execution_count": null,
   "metadata": {},
   "outputs": [],
   "source": []
  }
 ],
 "metadata": {
  "language_info": {
   "codemirror_mode": {
    "name": "ipython",
    "version": 3
   },
   "file_extension": ".py",
   "mimetype": "text/x-python",
   "name": "python",
   "nbconvert_exporter": "python",
   "pygments_lexer": "ipython3",
   "version": "3.7.6-final"
  },
  "orig_nbformat": 2,
  "kernelspec": {
   "name": "python37664bitbaseconda1718532a609c4075829a8961198b2bf1",
   "display_name": "Python 3.7.6 64-bit ('base': conda)"
  }
 },
 "nbformat": 4,
 "nbformat_minor": 2
}