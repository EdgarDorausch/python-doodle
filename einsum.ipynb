{
 "cells": [
  {
   "cell_type": "code",
   "execution_count": 2,
   "metadata": {},
   "outputs": [],
   "source": [
    "import numpy as np"
   ]
  },
  {
   "cell_type": "code",
   "execution_count": 3,
   "metadata": {},
   "outputs": [
    {
     "output_type": "execute_result",
     "data": {
      "text/plain": "array([[ 0,  1,  2,  3,  4],\n       [ 5,  6,  7,  8,  9],\n       [10, 11, 12, 13, 14],\n       [15, 16, 17, 18, 19],\n       [20, 21, 22, 23, 24]])"
     },
     "metadata": {},
     "execution_count": 3
    }
   ],
   "source": [
    "A = np.arange(25).reshape([5,5])\n",
    "A"
   ]
  },
  {
   "cell_type": "code",
   "execution_count": 4,
   "metadata": {},
   "outputs": [
    {
     "output_type": "execute_result",
     "data": {
      "text/plain": "array([[[ 0,  1,  2],\n        [ 3,  4,  5],\n        [ 6,  7,  8]],\n\n       [[ 9, 10, 11],\n        [12, 13, 14],\n        [15, 16, 17]],\n\n       [[18, 19, 20],\n        [21, 22, 23],\n        [24, 25, 26]]])"
     },
     "metadata": {},
     "execution_count": 4
    }
   ],
   "source": [
    "B = np.arange(27).reshape([3,3,3])\n",
    "B"
   ]
  },
  {
   "cell_type": "code",
   "execution_count": 5,
   "metadata": {},
   "outputs": [
    {
     "output_type": "execute_result",
     "data": {
      "text/plain": "array([1, 2, 3])"
     },
     "metadata": {},
     "execution_count": 5
    }
   ],
   "source": [
    "C = np.array([1,2,3])\n",
    "C"
   ]
  },
  {
   "cell_type": "code",
   "execution_count": 6,
   "metadata": {},
   "outputs": [
    {
     "output_type": "execute_result",
     "data": {
      "text/plain": "array([ 0, 26, 78])"
     },
     "metadata": {},
     "execution_count": 6
    }
   ],
   "source": [
    "np.einsum('iii,i->i', B,C)"
   ]
  },
  {
   "cell_type": "code",
   "execution_count": 7,
   "metadata": {},
   "outputs": [
    {
     "output_type": "execute_result",
     "data": {
      "text/plain": "array([[ 72,  78,  84],\n       [ 90,  96, 102],\n       [108, 114, 120]])"
     },
     "metadata": {},
     "execution_count": 7
    }
   ],
   "source": [
    "np.einsum('ijk,i->jk', B,C)"
   ]
  },
  {
   "cell_type": "code",
   "execution_count": 8,
   "metadata": {},
   "outputs": [
    {
     "output_type": "execute_result",
     "data": {
      "text/plain": "array([[ 24,  30,  36],\n       [ 78,  84,  90],\n       [132, 138, 144]])"
     },
     "metadata": {},
     "execution_count": 8
    }
   ],
   "source": [
    "np.einsum('ijk,j->ik', B,C)"
   ]
  },
  {
   "cell_type": "code",
   "execution_count": 10,
   "metadata": {},
   "outputs": [
    {
     "output_type": "execute_result",
     "data": {
      "text/plain": "array([1.11022302e-16, 1.41421356e+00])"
     },
     "metadata": {},
     "execution_count": 10
    }
   ],
   "source": [
    "phi = np.pi/4\n",
    "np.einsum('ji,i->j', np.array([[np.cos(phi), -np.sin(phi)],[np.sin(phi), np.cos(phi)]]), np.array([1.,1.]))"
   ]
  },
  {
   "cell_type": "markdown",
   "metadata": {},
   "source": [
    "## Matrix application on each vector (on axis 0) in a rank 3 tensor"
   ]
  },
  {
   "cell_type": "code",
   "execution_count": 20,
   "metadata": {},
   "outputs": [
    {
     "output_type": "execute_result",
     "data": {
      "text/plain": "array([[[1.],\n        [0.]],\n\n       [[1.],\n        [1.]]])"
     },
     "metadata": {},
     "execution_count": 20
    }
   ],
   "source": [
    "vecs = np.zeros([2,2,1])\n",
    "vecs[:,0,0] = [1.,1.]\n",
    "vecs[:,1,0] = [0.,1.]\n",
    "vecs"
   ]
  },
  {
   "cell_type": "code",
   "execution_count": 24,
   "metadata": {
    "tags": []
   },
   "outputs": [
    {
     "output_type": "stream",
     "name": "stdout",
     "text": "[1.11022302e-16 1.41421356e+00]\n[-0.70710678  0.70710678]\n"
    }
   ],
   "source": [
    "phi = np.pi/4\n",
    "res = np.einsum('ji,ikl->jkl', np.array([[np.cos(phi), -np.sin(phi)],[np.sin(phi), np.cos(phi)]]), vecs)\n",
    "print(res[:,0,0])\n",
    "print(res[:,1,0])"
   ]
  },
  {
   "cell_type": "code",
   "execution_count": null,
   "metadata": {},
   "outputs": [],
   "source": []
  }
 ],
 "metadata": {
  "language_info": {
   "codemirror_mode": {
    "name": "ipython",
    "version": 3
   },
   "file_extension": ".py",
   "mimetype": "text/x-python",
   "name": "python",
   "nbconvert_exporter": "python",
   "pygments_lexer": "ipython3",
   "version": "3.7.6-final"
  },
  "orig_nbformat": 2,
  "kernelspec": {
   "name": "python3",
   "display_name": "Python 3"
  }
 },
 "nbformat": 4,
 "nbformat_minor": 2
}